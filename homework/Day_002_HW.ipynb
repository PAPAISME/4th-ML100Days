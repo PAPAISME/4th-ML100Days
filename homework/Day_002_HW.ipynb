{
 "cells": [
  {
   "cell_type": "markdown",
   "metadata": {},
   "source": [
    "## [作業目標]\n",
    "了解機器學習適合應用的領域與範疇。"
   ]
  },
  {
   "cell_type": "markdown",
   "metadata": {},
   "source": [
    "## [作業重點]\n",
    "透過瞭解機器學習的運作方式，找出非常適用機器學習應用的領域及其原因"
   ]
  },
  {
   "cell_type": "markdown",
   "metadata": {},
   "source": [
    "## 作業\n",
    "請找出一個你認為機器學習可以發光發熱的領域並闡述原因? "
   ]
  },
  {
   "cell_type": "markdown",
   "metadata": {},
   "source": [
    "### 我認為 NLP (Natural Language Processing) 是一個機器學習可以發光發熱的領域\n",
    "\n",
    "#### 原因主要是因為 :\n",
    "\n",
    "> NLP 在近幾年透過機器學習獲得巨大的進步, 其應用在許多我們常見的生活習慣及用品上已經都看得見.\n",
    ">\n",
    "> 舉例 : Google 翻譯, 聊天機器人, 各家廠商研發的助理系統 (如 Google 助理) 等等.\n",
    ">\n",
    "> 在 NLP 這塊領域當中, 研究範疇非常廣, 也有目前遇到得艱難問題需要克服, 例如 :單詞邊界界定、單一字詞多義、語法模糊、語言行為及計畫\n",
    ">\n",
    "> 若未來能夠突破所遇到的難題\n",
    ">\n",
    "> 是否能夠期待看到一種能翻譯所有語言的耳機或是眼鏡現世讓全世界溝通不在受到語言的限制\n",
    ">\n",
    "> 或是真的類似鋼鐵人影片中的 Javis 變成每個人生活中的助理協助人們能夠更快的處理各項事物"
   ]
  }
 ],
 "metadata": {
  "kernelspec": {
   "display_name": "Python 3",
   "language": "python",
   "name": "python3"
  },
  "language_info": {
   "codemirror_mode": {
    "name": "ipython",
    "version": 3
   },
   "file_extension": ".py",
   "mimetype": "text/x-python",
   "name": "python",
   "nbconvert_exporter": "python",
   "pygments_lexer": "ipython3",
   "version": "3.7.4"
  }
 },
 "nbformat": 4,
 "nbformat_minor": 2
}
