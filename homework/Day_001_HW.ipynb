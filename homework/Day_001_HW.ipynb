{
 "cells": [
  {
   "cell_type": "markdown",
   "metadata": {},
   "source": [
    "# 練習時間\n",
    "\n",
    "\n",
    "### 請寫一個函式用來計算 Mean Square Error\n",
    "\n",
    "$ MSE = \\frac{1}{n}\\sum_{i=1}^{n}{(Y_i - \\hat{Y}_i)^2} $\n",
    "\n",
    "\n",
    "## Hint: 如何取平方\n",
    "\n",
    "------\n",
    "# [作業目標]\n",
    "仿造範例的MAE函數, 自己寫一個MSE函數(參考上面公式)\n",
    "\n",
    "------\n",
    "# [作業重點]\n",
    "注意程式的縮排\n",
    "是否能將數學公式, 轉換為 Python 的函式組合? (In[2], Out[2])"
   ]
  },
  {
   "cell_type": "code",
   "execution_count": 1,
   "metadata": {},
   "outputs": [],
   "source": [
    "import numpy as np\n",
    "import matplotlib.pyplot as plt"
   ]
  },
  {
   "cell_type": "code",
   "execution_count": 2,
   "metadata": {},
   "outputs": [],
   "source": [
    "def mean_absolute_error(y, yp):\n",
    "    \"\"\"\n",
    "    計算 MAE\n",
    "    Args:\n",
    "        - y: 實際值\n",
    "        - yp: 預測值\n",
    "    Return:\n",
    "        - mae: MAE\n",
    "    \"\"\"\n",
    "    mae = MAE = sum(abs(y - yp)) / len(y)\n",
    "    \n",
    "    return mae\n",
    "\n",
    "# 定義 mean_squared_error 這個函數, 計算並傳回 MSE\n",
    "def mean_squared_error(y, yp):\n",
    "    \"\"\"\n",
    "    計算 MSE\n",
    "    Args:\n",
    "        - y: 實際值\n",
    "        - yp: 預測值\n",
    "    Return:\n",
    "        - mse: MSE\n",
    "    \"\"\"\n",
    "    mse = MSE = sum((y - yp) ** 2) / len(y)\n",
    "    \n",
    "    return mse"
   ]
  },
  {
   "cell_type": "code",
   "execution_count": 3,
   "metadata": {},
   "outputs": [
    {
     "data": {
      "image/png": "[encoded data removed]",
      "text/plain": [
       "<Figure size 432x288 with 1 Axes>"
      ]
     },
     "metadata": {
      "needs_background": "light"
     },
     "output_type": "display_data"
    }
   ],
   "source": [
    "w = 3\n",
    "b = 0.5\n",
    "\n",
    "x_lin = np.linspace(0, 100, 101)\n",
    "y = (x_lin + np.random.randn(101) * 5) * w + b\n",
    "\n",
    "plt.plot(x_lin, y, \"b.\", label = \"data points\")\n",
    "plt.title(\"Assume we have data points\")\n",
    "plt.legend(loc = 2)\n",
    "plt.show()"
   ]
  },
  {
   "cell_type": "code",
   "execution_count": 4,
   "metadata": {},
   "outputs": [
    {
     "data": {
      "image/png": "[encoded data removed]",
      "text/plain": [
       "<Figure size 432x288 with 1 Axes>"
      ]
     },
     "metadata": {
      "needs_background": "light"
     },
     "output_type": "display_data"
    }
   ],
   "source": [
    "y_hat = x_lin * w + b\n",
    "\n",
    "plt.plot(x_lin, y, \"b.\", label = \"data\")\n",
    "plt.plot(x_lin, y_hat, \"r-\", label = \"prediction\")\n",
    "plt.title(\"Assume we have data points (And the prediction)\")\n",
    "plt.legend(loc = 2)\n",
    "plt.show()"
   ]
  },
  {
   "cell_type": "code",
   "execution_count": 5,
   "metadata": {},
   "outputs": [
    {
     "name": "stdout",
     "output_type": "stream",
     "text": [
      "THe Mean squared error is 195.673\n",
      "THe Mean absolute error is 11.341\n"
     ]
    }
   ],
   "source": [
    "MSE = mean_squared_error(y, y_hat)\n",
    "MAE = mean_absolute_error(y, y_hat)\n",
    "\n",
    "print(\"THe Mean squared error is %.3f\" % (MSE))\n",
    "print(\"THe Mean absolute error is %.3f\" % (MAE))"
   ]
  },
  {
   "cell_type": "markdown",
   "metadata": {},
   "source": [
    "我選的資料集 : 印度空氣品質資料 (https://www.kaggle.com/shrutibhargava94/india-air-quality-data)\n",
    "\n",
    "1. 你選的這組資料為何重要 :\n",
    "    \n",
    ">從工業革命以來, 空氣污染的問題持續的惡化, 正如世界衛生組織的報告, 每年有 700 萬人的死亡和空氣污染有關,\n",
    ">空氣污染已經變成不可忽視的議題\n",
    "\n",
    "2. 資料從何而來 (tips: 譬如提供者是誰、以什麼方式蒐集) :\n",
    "    \n",
    ">印度環境與森林部門以及中央污染控制委員會聯合提供, 主要為收集過去 (2004 - 2015) 印度各州及各地的每日環境中空氣品質的數據\n",
    "\n",
    "3. 蒐集而來的資料型態為何 :\n",
    "    \n",
    ">結構化資料格式 : csv 檔案\n",
    "    \n",
    "4. 這組資料想解決的問題如何評估 :\n",
    "    \n",
    ">分析是否因為政府制定的環境政策有造成 PM2.5 濃度的降低"
   ]
  },
  {
   "cell_type": "markdown",
   "metadata": {},
   "source": [
    "想像你經營一個自由載客車隊，你希望能透過數據分析以提升業績，請你思考並描述你如何規劃整體的分析/解決方案：\n",
    "\n",
    "1. 核心問題為何 (tips：如何定義 「提升業績 & 你的假設」) :\n",
    "    \n",
    "> 車隊固有的收入模式 : \n",
    "> * 發派車次賺取司機費用\n",
    "> * 司機固定每月的權利金\n",
    "\n",
    "> 提昇業績的方法有以下兩種可能方法 :\n",
    "> * 降低空車率 (間接影響 => 降低顧客等車時間、派車次數變多、油耗量合理化)\n",
    "> * 提昇車隊人數 (多收取每月權利金)\n",
    "\n",
    "\n",
    "2. 資料從何而來 (tips：哪些資料可能會對你想問的問題產生影響 & 資料如何蒐集)\n",
    "\n",
    "> 會對 \"提昇業績\" 產生影響的原因 :\n",
    "> * 歷史區域載客需求量\n",
    "> * 乘客實際乘車時間\n",
    "> * 乘客路程長短\n",
    "> * 司機工作時間\n",
    "> * 天氣、節慶、活動\n",
    "\n",
    "> 資料收集方式 :\n",
    ">     透過車隊統一發放的微型電腦 (功能包含 GPS 定位系統、跳表計費、連結汽車本身的智慧型裝置取得油的資訊等等)\n",
    "\n",
    "3. 蒐集而來的資料型態為何\n",
    "\n",
    "> 將每一筆乘客的資料透過上述的微型電腦轉換成 csv 檔案格式\n",
    "> 每筆資料紀錄著 `區域`, `乘客上車地點`, `乘客下車地點`, `路程`, `車資`, `上車時間`, `下車時間`, `實際乘車時間`, `油耗`\n",
    "\n",
    "4. 你要回答的問題，其如何評估 (tips：你的假設如何驗證)\n",
    "\n",
    "> (1) 車隊透過 GPS 系統和每台計程車建立連線, 優先發派顧客附近的計程車給顧客 (降低顧客等車時間, 車子載客時間變多, 油耗量合理化)\n",
    ">\n",
    "> (2) 藉由 (1) 中的基礎, 提昇車隊聲望和建立品牌價值, 會有更多人願意投入到車隊中工作\n",
    "\n",
    "> 藉由執行以上兩小點, 時間定為三個月, 看是否整個車隊整體收入是否有持續上升"
   ]
  }
 ],
 "metadata": {
  "kernelspec": {
   "display_name": "Python 3",
   "language": "python",
   "name": "python3"
  },
  "language_info": {
   "codemirror_mode": {
    "name": "ipython",
    "version": 3
   },
   "file_extension": ".py",
   "mimetype": "text/x-python",
   "name": "python",
   "nbconvert_exporter": "python",
   "pygments_lexer": "ipython3",
   "version": "3.8.1"
  }
 },
 "nbformat": 4,
 "nbformat_minor": 4
}
